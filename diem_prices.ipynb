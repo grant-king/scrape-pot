{
 "cells": [
  {
   "cell_type": "markdown",
   "metadata": {},
   "source": [
    "## Daily price data from Diem pot delivery Portland website\n",
    "Use requests, Beautiful Soup, and Pandas packages to retrieve html data from https://portland.hellodiem.com/, to locate product information, parse title and price into lists, remove superfluous pre-sale values, combine into a Pandas DataFrame, and save to a csv file."
   ]
  },
  {
   "cell_type": "code",
   "execution_count": 1,
   "metadata": {},
   "outputs": [],
   "source": [
    "def get_heading_list(url, page):\n",
    "    # Packages the request, send the request and catch the response: r\n",
    "    r = requests.get(url+'page/'+str(page)+'/')\n",
    "    html_text = r.text\n",
    "\n",
    "    #set soup list equal to html text from page\n",
    "    soup = BeautifulSoup(html_text, 'html.parser')\n",
    "    \n",
    "    headings = [[], []]\n",
    "    #get list of product title headings on page\n",
    "    headings[0] = soup.find_all('h2', class_='woocommerce-loop-product__title')\n",
    "    \n",
    "    #get list of product price headings on page\n",
    "    headings[1] = soup.find_all('span', class_='woocommerce-Price-amount amount')\n",
    "    pop_extra_price(headings[1])\n",
    "    return headings\n",
    "\n",
    "def pop_extra_price(headingss):\n",
    "    \"\"\"helper function to remove extra pre-sale prices from final list. Input list of \n",
    "    headers, get back list of headers less those that had a particular tag\"\"\"\n",
    "    for item in headingss:\n",
    "        if item.parent.name == 'del':\n",
    "            headingss.pop(headingss.index(item))\n"
   ]
  },
  {
   "cell_type": "code",
   "execution_count": 2,
   "metadata": {},
   "outputs": [],
   "source": [
    "def strip_product(header_list):\n",
    "    \"\"\"input a list of tag-type values and return list of strings with surrounding html characters removed\"\"\"\n",
    "    string_list = ['' for item in range(len(header_list))]\n",
    "    for item in range(len(header_list)):\n",
    "        string_list[item] = str(header_list[item])[44:-5]\n",
    "    return string_list\n",
    "\n",
    "def strip_price(header_list):\n",
    "    \"\"\"input a list of tag-type values and return list of strings with surrounding html characters removed\"\"\"\n",
    "    string_list = ['' for item in range(len(header_list))]\n",
    "    for item in range(len(header_list)):\n",
    "        string_list[item] = str(header_list[item])[101:-7]\n",
    "    return string_list"
   ]
  },
  {
   "cell_type": "code",
   "execution_count": 3,
   "metadata": {},
   "outputs": [],
   "source": [
    "def build_df(price_sers):\n",
    "    today_date = str(dt.date.today())\n",
    "    \n",
    "    combined = pd.concat(price_sers, axis=1)\n",
    "    combined.columns = ['prices_' + str(i) for i in range(1, (len(combined.columns)) + 1)]\n",
    "    combined.index.name = 'items'\n",
    "    \n",
    "    return combined"
   ]
  },
  {
   "cell_type": "code",
   "execution_count": 4,
   "metadata": {},
   "outputs": [],
   "source": [
    "from bs4 import BeautifulSoup\n",
    "import requests\n",
    "max_page = 12\n",
    "url = 'https://portland.hellodiem.com/'"
   ]
  },
  {
   "cell_type": "code",
   "execution_count": 5,
   "metadata": {},
   "outputs": [],
   "source": [
    "#create a list to hold lists of headers, one for each page\n",
    "h_product = ['' for strng in range(max_page)]\n",
    "h_price = ['' for strng in range(max_page)]\n",
    "\n",
    "#iterate over each list of headers for a page, set each index of headers equal to list\n",
    "for page in range(0, max_page):\n",
    "    headers = get_heading_list(url, page+1)\n",
    "    h_product[page] = headers[0]\n",
    "    h_price[page] = headers[1]\n",
    "    \n",
    "combined_products = []\n",
    "combined_prices = []\n",
    "\n",
    "for sublist in range(max_page):\n",
    "    combined_products.append(strip_product(h_product[sublist]))\n",
    "    \n",
    "for sublist in range(max_page):\n",
    "    combined_prices.append(strip_price(h_price[sublist]))\n",
    "\n",
    "#create a list of all prices\n",
    "all_prices = []\n",
    "for by_page in combined_prices:\n",
    "    for li in by_page:\n",
    "        #print(li, '\\n')\n",
    "        all_prices.append(float(li))\n",
    "        \n",
    "#create a list of all products\n",
    "all_products = []\n",
    "for by_page in combined_products:\n",
    "    for li in by_page:\n",
    "        #print(li, '\\n')\n",
    "        all_products.append(li)"
   ]
  },
  {
   "cell_type": "code",
   "execution_count": 6,
   "metadata": {},
   "outputs": [],
   "source": [
    "import pandas as pd\n",
    "product_ser = pd.Series(all_products)\n",
    "price_ser = pd.Series(all_prices)\n",
    "\n",
    "pot = pd.DataFrame([product_ser, price_ser]).T"
   ]
  },
  {
   "cell_type": "code",
   "execution_count": 7,
   "metadata": {},
   "outputs": [],
   "source": [
    "#import datetime, needed to get current date\n",
    "import datetime as dt\n",
    "#set today_date, formatted as YYYY-MM-DD\n",
    "today_date = str(dt.date.today())\n",
    "#print(today_date)"
   ]
  },
  {
   "cell_type": "code",
   "execution_count": 8,
   "metadata": {},
   "outputs": [],
   "source": [
    "#------------------------------------------------------------------------------\n",
    "\n",
    "#write to csv and set index to position rather than name, use\n",
    "pot.to_csv(('prices'+ today_date +'.csv'), encoding='utf8', \n",
    "           header=['item_name', 'item_price'], index_label='relative_position')\n",
    "\n",
    "#did not explicitly specify utf8 encoding when creating first file, and now need \n",
    "#to specify ansi when opening\n",
    "pot1 = pd.read_csv('prices2018-05-07.csv', encoding='ansi')\n",
    "pot1.set_index(pot1['0'], inplace=True)\n",
    "pot1 = pot1[[\"1\"]]\n",
    "pot1.columns = ['item_price']\n",
    "pot1.index.name = 'item_name'\n",
    "\n",
    "#put in loop when more are available\n",
    "#read files into dataframes to prepare for combination\n",
    "pot2 = pd.read_csv('prices2018-05-08.csv', index_col='item_name')\n",
    "pot2 = pot2[['item_price']]\n",
    "\n",
    "pot3 = pd.read_csv('prices2018-05-09.csv', index_col='item_name')\n",
    "pot3 = pot3[['item_price']]"
   ]
  },
  {
   "cell_type": "code",
   "execution_count": 9,
   "metadata": {},
   "outputs": [],
   "source": [
    "pots = [pot1, pot2, pot3]\n",
    "pot_all = build_df(pots)\n"
   ]
  },
  {
   "cell_type": "code",
   "execution_count": 10,
   "metadata": {},
   "outputs": [
    {
     "name": "stdout",
     "output_type": "stream",
     "text": [
      "         prices_1    prices_2    prices_3\n",
      "count  211.000000  210.000000  210.000000\n",
      "mean    38.338863   38.416667   38.416667\n",
      "std     33.591549   33.652753   33.652753\n",
      "min      1.750000    1.750000    1.750000\n",
      "25%     13.000000   13.000000   13.000000\n",
      "50%     27.000000   27.000000   27.000000\n",
      "75%     54.000000   54.000000   54.000000\n",
      "max    200.000000  200.000000  200.000000 \n",
      "\n",
      "DISCOUNT OUNCE ~ Mendo Breath ~ ($164 OFF) $200.0\n"
     ]
    }
   ],
   "source": [
    "#quick stats\n",
    "print(pot_all.describe(), '\\n')\n",
    "\n",
    "#most expensive item and price\n",
    "print(pot_all.idxmax()[0], ('$' + str(pot_all.loc[pot_all.idxmax()[0]][0])))"
   ]
  },
  {
   "cell_type": "code",
   "execution_count": 11,
   "metadata": {},
   "outputs": [
    {
     "name": "stdout",
     "output_type": "stream",
     "text": [
      "prices_1    40.0\n",
      "prices_2    33.0\n",
      "prices_3    33.0\n",
      "Name: Blue Dragon Oil Cartridge 1/2 gram, dtype: float64\n",
      "prices_1    33.0\n",
      "prices_2    40.0\n",
      "prices_3    40.0\n",
      "Name: Blue Mystic Oil Cartridge 1 gram, dtype: float64\n",
      "prices_1    22.0\n",
      "prices_2     NaN\n",
      "prices_3     NaN\n",
      "Name: CBD Pre-roll Sampler 3-pack ($5 OFF), dtype: float64\n",
      "prices_1    22.0\n",
      "prices_2     NaN\n",
      "prices_3     NaN\n",
      "Name: CBD Pre-roll Sampler 3-pack ($5 OFF), dtype: float64\n",
      "prices_1    42.0\n",
      "prices_2    40.0\n",
      "prices_3    40.0\n",
      "Name: Fruit Punch Oil Cartridge 1/2 gram, dtype: float64\n",
      "prices_1    40.0\n",
      "prices_2    42.0\n",
      "prices_3    42.0\n",
      "Name: Jilly Bean Live Resin Cartridge 1/2 gram, dtype: float64\n"
     ]
    }
   ],
   "source": [
    "#check which items have changed price, sold out, or been added\n",
    "for i in range(len(pot_all)):\n",
    "    p = 0\n",
    "    if (pot_all.iloc[i][p] != pot_all.iloc[i][p+1]):\n",
    "        print(pot_all.iloc[i])\n",
    "    if (pot_all.iloc[i][p+1] != pot_all.iloc[i][p+2]):\n",
    "        print(pot_all.iloc[i])"
   ]
  },
  {
   "cell_type": "code",
   "execution_count": null,
   "metadata": {},
   "outputs": [],
   "source": []
  }
 ],
 "metadata": {
  "kernelspec": {
   "display_name": "Python 3",
   "language": "python",
   "name": "python3"
  },
  "language_info": {
   "codemirror_mode": {
    "name": "ipython",
    "version": 3
   },
   "file_extension": ".py",
   "mimetype": "text/x-python",
   "name": "python",
   "nbconvert_exporter": "python",
   "pygments_lexer": "ipython3",
   "version": "3.6.1"
  }
 },
 "nbformat": 4,
 "nbformat_minor": 2
}
