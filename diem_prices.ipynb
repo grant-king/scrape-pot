{
 "cells": [
  {
   "cell_type": "markdown",
   "metadata": {},
   "source": [
    "## Get price data from specific website\n",
    "Use requests, Beautiful Soup, and Pandas packages to retrieve html data from https://portland.hellodiem.com/, to locate product information, parse title and price into lists, remove superfluous pre-sale values, combine into a Pandas DataFrame, and save to a csv file."
   ]
  },
  {
   "cell_type": "code",
   "execution_count": 1,
   "metadata": {},
   "outputs": [],
   "source": [
    "def get_heading_list(url, page):\n",
    "    # Packages the request, send the request and catch the response: r\n",
    "    r = requests.get(url+'page/'+str(page)+'/')\n",
    "    html_text = r.text\n",
    "\n",
    "    #set soup list equal to html text from page\n",
    "    soup = BeautifulSoup(html_text, 'html.parser')\n",
    "    \n",
    "    headings = [[], []]\n",
    "    #get list of product title headings on page\n",
    "    headings[0] = soup.find_all('h2', class_='woocommerce-loop-product__title')\n",
    "    \n",
    "    #get list of product price headings on page\n",
    "    headings[1] = soup.find_all('span', class_='woocommerce-Price-amount amount')\n",
    "    pop_extra_price(headings[1])\n",
    "    return headings\n",
    "\n",
    "def pop_extra_price(headingss):\n",
    "    \"\"\"helper function to remove extra pre-sale prices from final list. Input list of \n",
    "    headers, get back list of headers less those that had a particular tag\"\"\"\n",
    "    for item in headingss:\n",
    "        if item.parent.name == 'del':\n",
    "            headingss.pop(headingss.index(item))\n"
   ]
  },
  {
   "cell_type": "code",
   "execution_count": 2,
   "metadata": {},
   "outputs": [],
   "source": [
    "def strip_product(header_list):\n",
    "    \"\"\"input a list of tag-type values and return list of strings with surrounding html characters removed\"\"\"\n",
    "    string_list = ['' for item in range(len(header_list))]\n",
    "    for item in range(len(header_list)):\n",
    "        string_list[item] = str(header_list[item])[44:-5]\n",
    "    return string_list\n",
    "\n",
    "def strip_price(header_list):\n",
    "    \"\"\"input a list of tag-type values and return list of strings with surrounding html characters removed\"\"\"\n",
    "    string_list = ['' for item in range(len(header_list))]\n",
    "    for item in range(len(header_list)):\n",
    "        string_list[item] = str(header_list[item])[101:-7]\n",
    "    return string_list"
   ]
  },
  {
   "cell_type": "code",
   "execution_count": 3,
   "metadata": {},
   "outputs": [],
   "source": [
    "from bs4 import BeautifulSoup\n",
    "import requests\n",
    "max_page = 12\n",
    "url = 'https://portland.hellodiem.com/'"
   ]
  },
  {
   "cell_type": "code",
   "execution_count": 4,
   "metadata": {},
   "outputs": [],
   "source": [
    "#create a list to hold lists of headers, one for each page\n",
    "h_product = ['' for strng in range(max_page)]\n",
    "h_price = ['' for strng in range(max_page)]\n",
    "\n",
    "#iterate over each list of headers for a page, set each index of headers equal to list\n",
    "for page in range(0, max_page):\n",
    "    headers = get_heading_list(url, page+1)\n",
    "    h_product[page] = headers[0]\n",
    "    h_price[page] = headers[1]\n",
    "    \n",
    "combined_products = []\n",
    "combined_prices = []\n",
    "\n",
    "for sublist in range(max_page):\n",
    "    combined_products.append(strip_product(h_product[sublist]))\n",
    "    \n",
    "for sublist in range(max_page):\n",
    "    combined_prices.append(strip_price(h_price[sublist]))\n",
    "\n",
    "#create a list of all prices\n",
    "all_prices = []\n",
    "for by_page in combined_prices:\n",
    "    for li in by_page:\n",
    "        #print(li, '\\n')\n",
    "        all_prices.append(float(li))\n",
    "        \n",
    "#create a list of all products\n",
    "all_products = []\n",
    "for by_page in combined_products:\n",
    "    for li in by_page:\n",
    "        #print(li, '\\n')\n",
    "        all_products.append(li)"
   ]
  },
  {
   "cell_type": "code",
   "execution_count": 5,
   "metadata": {},
   "outputs": [],
   "source": [
    "import pandas as pd\n",
    "product_ser = pd.Series(all_products)\n",
    "price_ser = pd.Series(all_prices)\n",
    "\n",
    "pot = pd.DataFrame([product_ser, price_ser]).T"
   ]
  },
  {
   "cell_type": "code",
   "execution_count": 18,
   "metadata": {},
   "outputs": [],
   "source": [
    "#write to csv and set index to position rather than name, use\n",
    "pot.to_csv('prices05082018.csv', encoding='utf8', header=['item_name', 'item_price'], index_label='relative_position')\n",
    "\n",
    "#did not explicitly specify utf8 encoding for first file, now need to specify ansi when opening\n",
    "pot0 = pd.read_csv('prices05072018.csv', encoding='ansi')\n",
    "pot0.set_index(pot0['0'], inplace=True)\n",
    "pot1 = pot0[[\"1\"]]\n",
    "pot1.columns = ['item_price']\n",
    "pot1.index.name = 'item_name'\n",
    "\n",
    "#put in loop when more are available\n",
    "pot2 = pd.read_csv('prices05082018.csv', index_col='item_name')\n",
    "pot2 = pot2[['item_price']]"
   ]
  },
  {
   "cell_type": "code",
   "execution_count": 35,
   "metadata": {},
   "outputs": [
    {
     "name": "stdout",
     "output_type": "stream",
     "text": [
      "                                        item_price_1  item_price_2\n",
      "1:1 Cannabis RSO                               40.00         40.00\n",
      "9lb Hammer Shatter                             19.00         19.00\n",
      "9lb Hammer Shatter 5-pack ($15 OFF)            80.00         80.00\n",
      "ATF Oil Cartridge 1 gram                       65.00         65.00\n",
      "Amnesia Pre-roll 1 gram                         9.00          9.00\n",
      "BIC Lighter                                     1.75          1.75\n",
      "Berry Larry                                    10.00         10.00\n",
      "Big Bud Skunk CO2 Oil                          22.00         22.00\n",
      "Big Bud Skunk CO2 Oil 3-pack ($12 OFF)         54.00         54.00\n",
      "Blackberry Gummy                                5.00          5.00\n",
      "Blackberry Kush Shatter                        20.00         20.00\n",
      "Blue Dragon Oil Cartridge 1/2 gram             40.00         33.00\n",
      "Blue Dream Pre-roll 1 gram                      8.00          8.00\n",
      "Blue Magoo Pre-roll 1 gram                     11.00         11.00\n",
      "Blue Mystic Oil Cartridge 1 gram               33.00         40.00\n",
      "Blue Raspberry Gummy                            5.00          5.00\n",
      "Blueberry                                       8.00          8.00\n",
      "Blueberry Pre-roll 1 gram                       9.00          9.00\n",
      "Blueberry Shatter                              25.00         25.00\n",
      "Blueberry Shatter ~ CBD 9%                     18.00         18.00\n",
      "Blueberry THC Vape Pen                         22.00         22.00\n",
      "Brownie Truffle Bites                          22.00         22.00\n",
      "Bubba Kush                                      9.00          9.00\n",
      "Bubba Kush Shatter                             17.00         17.00\n",
      "CBD 1:1 Cannabis Oil                           54.00         54.00\n",
      "CBD 1:1 Cannabis Oil Tincture                  54.00         54.00\n",
      "CBD Cannabis Oil                               64.00         64.00\n",
      "CBD Dark Chocolate Espresso Bar                28.00         28.00\n",
      "CBD Focus Vape Pen ~ Peppermint                40.00         40.00\n",
      "CBD OG Kush Pre-roll 1 gram                    12.00         12.00\n"
     ]
    }
   ],
   "source": [
    "pot_all = pd.concat([pot1, pot2], axis=1)\n",
    "pot_all.columns = ['item_price_' + str(i) for i in range(1, (len(pot_all.columns)) + 1)]\n",
    "\n",
    "print(pot_all.head(30))"
   ]
  },
  {
   "cell_type": "code",
   "execution_count": 55,
   "metadata": {},
   "outputs": [
    {
     "name": "stdout",
     "output_type": "stream",
     "text": [
      "item_price_1    40.0\n",
      "item_price_2    33.0\n",
      "Name: Blue Dragon Oil Cartridge 1/2 gram, dtype: float64\n",
      "item_price_1    33.0\n",
      "item_price_2    40.0\n",
      "Name: Blue Mystic Oil Cartridge 1 gram, dtype: float64\n",
      "item_price_1    22.0\n",
      "item_price_2     NaN\n",
      "Name: CBD Pre-roll Sampler 3-pack ($5 OFF), dtype: float64\n",
      "item_price_1    42.0\n",
      "item_price_2    40.0\n",
      "Name: Fruit Punch Oil Cartridge 1/2 gram, dtype: float64\n",
      "item_price_1    40.0\n",
      "item_price_2    42.0\n",
      "Name: Jilly Bean Live Resin Cartridge 1/2 gram, dtype: float64\n"
     ]
    }
   ],
   "source": [
    "#check which items have changed price, sold out, or been added\n",
    "for i in range(len(pot_all)):\n",
    "    p = 0\n",
    "    if (pot_all.iloc[i][p] != pot_all.iloc[i][p+1]):\n",
    "        print(pot_all.iloc[i])"
   ]
  }
 ],
 "metadata": {
  "kernelspec": {
   "display_name": "Python 3",
   "language": "python",
   "name": "python3"
  },
  "language_info": {
   "codemirror_mode": {
    "name": "ipython",
    "version": 3
   },
   "file_extension": ".py",
   "mimetype": "text/x-python",
   "name": "python",
   "nbconvert_exporter": "python",
   "pygments_lexer": "ipython3",
   "version": "3.6.1"
  }
 },
 "nbformat": 4,
 "nbformat_minor": 2
}
